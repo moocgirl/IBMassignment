{
 "cells": [
  {
   "cell_type": "markdown",
   "id": "2eb36c61-66c3-4805-a01b-7870464eb74c",
   "metadata": {},
   "source": [
    "# Data Science Tools and Ecosystem"
   ]
  },
  {
   "cell_type": "markdown",
   "id": "5f82155f-20a5-4a48-92c2-5233230a4ef3",
   "metadata": {},
   "source": [
    "In this notebook, Data Science Tools and Ecosystem are summarized"
   ]
  },
  {
   "cell_type": "markdown",
   "id": "db517a46-20c5-4c9e-b1ca-c9f36dbaf26b",
   "metadata": {},
   "source": [
    "Some of the popular languages that Data Scientists use are:\n",
    "1. R\n",
    "2. Python\n",
    "3. SQL\n"
   ]
  },
  {
   "cell_type": "markdown",
   "id": "821e1769-a203-4275-a48e-86b556484899",
   "metadata": {},
   "source": [
    "Some of the commonly used libraries used by Data Scientists include:\n",
    "1. pandas\n",
    "2. numpy\n",
    "3. matplotlib"
   ]
  },
  {
   "cell_type": "markdown",
   "id": "dd713736-7f16-4b1b-b90d-4417619dfcfc",
   "metadata": {},
   "source": [
    " |Data Science Tools|\n",
    " --------------------\n",
    " |Anaconda|\n",
    " |R studio|\n",
    " |octave|\n",
    "\n",
    " "
   ]
  },
  {
   "cell_type": "markdown",
   "id": "08613c44-55ed-42ed-a76e-e3d72c27f76a",
   "metadata": {},
   "source": [
    "### Below are a few examples of evaluating arithmetic expressions in Python"
   ]
  },
  {
   "cell_type": "code",
   "execution_count": 22,
   "id": "3f3e206c-978f-4454-a50c-e74c4eee46a0",
   "metadata": {},
   "outputs": [
    {
     "data": {
      "text/plain": [
       "17"
      ]
     },
     "execution_count": 22,
     "metadata": {},
     "output_type": "execute_result"
    }
   ],
   "source": [
    "(3*4)+5\n",
    "# This a simple arithmetic expression to mutiply then add integers"
   ]
  },
  {
   "cell_type": "code",
   "execution_count": 24,
   "id": "200112da-fc47-42f2-8219-17b70b9f58df",
   "metadata": {},
   "outputs": [
    {
     "data": {
      "text/plain": [
       "3.3333333333333335"
      ]
     },
     "execution_count": 24,
     "metadata": {},
     "output_type": "execute_result"
    }
   ],
   "source": [
    "#This will convert 200 minutes to hours by diving by 60\n",
    "200/60"
   ]
  },
  {
   "cell_type": "markdown",
   "id": "4b886783-4d50-48cc-b46a-d10a785bb700",
   "metadata": {},
   "source": [
    "Objectives:\n",
    "- List popular languages for Data Science\n",
    "- List commonly used libraries for data science\n",
    "- List open source development environments\n"
   ]
  },
  {
   "cell_type": "markdown",
   "id": "9665fc47-d4ee-4a46-a752-714acedd3050",
   "metadata": {},
   "source": [
    "## Author\n",
    "Bridgett"
   ]
  }
 ],
 "metadata": {
  "kernelspec": {
   "display_name": "anaconda-panel-2023.05-py310",
   "language": "python",
   "name": "conda-env-anaconda-panel-2023.05-py310-py"
  },
  "language_info": {
   "codemirror_mode": {
    "name": "ipython",
    "version": 3
   },
   "file_extension": ".py",
   "mimetype": "text/x-python",
   "name": "python",
   "nbconvert_exporter": "python",
   "pygments_lexer": "ipython3",
   "version": "3.11.4"
  }
 },
 "nbformat": 4,
 "nbformat_minor": 5
}
